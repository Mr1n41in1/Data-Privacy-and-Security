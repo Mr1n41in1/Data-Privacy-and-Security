{
  "nbformat": 4,
  "nbformat_minor": 0,
  "metadata": {
    "colab": {
      "provenance": []
    },
    "kernelspec": {
      "name": "python3",
      "display_name": "Python 3"
    },
    "language_info": {
      "name": "python"
    }
  },
  "cells": [
    {
      "cell_type": "code",
      "execution_count": null,
      "metadata": {
        "colab": {
          "base_uri": "https://localhost:8080/"
        },
        "id": "pgvI_ZApfxAE",
        "outputId": "9778e6b4-a20d-4f9c-c850-a9ba8760bb7b"
      },
      "outputs": [
        {
          "output_type": "stream",
          "name": "stdout",
          "text": [
            "Collecting pycryptodome\n",
            "  Downloading pycryptodome-3.23.0-cp37-abi3-manylinux_2_17_x86_64.manylinux2014_x86_64.whl.metadata (3.4 kB)\n",
            "Downloading pycryptodome-3.23.0-cp37-abi3-manylinux_2_17_x86_64.manylinux2014_x86_64.whl (2.3 MB)\n",
            "\u001b[2K   \u001b[90m━━━━━━━━━━━━━━━━━━━━━━━━━━━━━━━━━━━━━━━━\u001b[0m \u001b[32m2.3/2.3 MB\u001b[0m \u001b[31m19.9 MB/s\u001b[0m eta \u001b[36m0:00:00\u001b[0m\n",
            "\u001b[?25hInstalling collected packages: pycryptodome\n",
            "Successfully installed pycryptodome-3.23.0\n"
          ]
        }
      ],
      "source": [
        "!pip install pycryptodome"
      ]
    },
    {
      "cell_type": "code",
      "source": [
        "from Crypto.Cipher import DES, DES3, AES\n",
        "from Crypto.Random import get_random_bytes\n",
        "from Crypto.Util.Padding import pad, unpad"
      ],
      "metadata": {
        "id": "Fr8xf5Vsf1UX"
      },
      "execution_count": null,
      "outputs": []
    },
    {
      "cell_type": "code",
      "source": [
        "# Key must be exactly 8 bytes\n",
        "key = b'8bytekey'\n",
        "\n",
        "# Data to encrypt\n",
        "data = b'HelloDES'\n",
        "\n",
        "# Encrypt\n",
        "cipher = DES.new(key, DES.MODE_ECB)\n",
        "cipher_text = cipher.encrypt(pad(data, DES.block_size))\n",
        "\n",
        "# Decrypt\n",
        "cipher = DES.new(key, DES.MODE_ECB)\n",
        "decrypted_text = unpad(cipher.decrypt(cipher_text), DES.block_size)"
      ],
      "metadata": {
        "id": "8XvF2gcbgJVZ"
      },
      "execution_count": null,
      "outputs": []
    },
    {
      "cell_type": "code",
      "source": [
        "print(\"Original text : \", data)\n",
        "print(\"Cipher text (hexadecimal): \", cipher_text)\n",
        "print(\"Decrypted text\",decrypted_text)"
      ],
      "metadata": {
        "colab": {
          "base_uri": "https://localhost:8080/"
        },
        "id": "Ho_5iTKiguTx",
        "outputId": "76b1435a-c067-4fda-ef07-214919d6f773"
      },
      "execution_count": null,
      "outputs": [
        {
          "output_type": "stream",
          "name": "stdout",
          "text": [
            "Original text :  b'HelloDES'\n",
            "Cipher text (hexadecimal):  b'\\xf4\\r+)\\xec\\x13\\xb7X\\x97F \\xab\\xef^\\xf2J'\n",
            "Decrypted text b'HelloDES'\n"
          ]
        }
      ]
    }
  ]
}
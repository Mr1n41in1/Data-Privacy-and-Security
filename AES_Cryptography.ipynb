{
  "nbformat": 4,
  "nbformat_minor": 0,
  "metadata": {
    "colab": {
      "provenance": []
    },
    "kernelspec": {
      "name": "python3",
      "display_name": "Python 3"
    },
    "language_info": {
      "name": "python"
    }
  },
  "cells": [
    {
      "cell_type": "markdown",
      "source": [
        "ADVANCED ENCRYPTION STANDARD (AES)"
      ],
      "metadata": {
        "id": "15m1EXC_r35I"
      }
    },
    {
      "cell_type": "code",
      "source": [
        "!pip install pycryptodome"
      ],
      "metadata": {
        "colab": {
          "base_uri": "https://localhost:8080/"
        },
        "id": "3uWIjZKAsDTA",
        "outputId": "b3320e61-4051-4b34-88ef-a193f90a0406"
      },
      "execution_count": null,
      "outputs": [
        {
          "output_type": "stream",
          "name": "stdout",
          "text": [
            "Collecting pycryptodome\n",
            "  Downloading pycryptodome-3.23.0-cp37-abi3-manylinux_2_17_x86_64.manylinux2014_x86_64.whl.metadata (3.4 kB)\n",
            "Downloading pycryptodome-3.23.0-cp37-abi3-manylinux_2_17_x86_64.manylinux2014_x86_64.whl (2.3 MB)\n",
            "\u001b[2K   \u001b[90m━━━━━━━━━━━━━━━━━━━━━━━━━━━━━━━━━━━━━━━━\u001b[0m \u001b[32m2.3/2.3 MB\u001b[0m \u001b[31m27.9 MB/s\u001b[0m eta \u001b[36m0:00:00\u001b[0m\n",
            "\u001b[?25hInstalling collected packages: pycryptodome\n",
            "Successfully installed pycryptodome-3.23.0\n"
          ]
        }
      ]
    },
    {
      "cell_type": "code",
      "execution_count": null,
      "metadata": {
        "id": "kYy0yVZ2rEOm"
      },
      "outputs": [],
      "source": [
        "from Crypto.Cipher import AES\n",
        "from Crypto.Random import get_random_bytes\n",
        "from Crypto.Util.Padding import pad, unpad"
      ]
    },
    {
      "cell_type": "code",
      "source": [
        "key = get_random_bytes(16)\n",
        "iv = get_random_bytes(16)\n",
        "\n",
        "plaintext = input(\"Enter the message: \")\n",
        "print(\"Plain Text : \",plaintext)\n",
        "\n",
        "cipher = AES.new(key, AES.MODE_CBC, iv)\n",
        "ciphertext = cipher.encrypt(pad(plaintext.encode(), AES.block_size))\n",
        "print(\"Cipher Text : \",ciphertext)\n",
        "\n",
        "decryption = AES.new(key, AES.MODE_CBC, iv)\n",
        "decrypted_text = unpad(decryption.decrypt(ciphertext), AES.block_size).decode()\n",
        "print(\"Decrypted Text : \",decrypted_text)"
      ],
      "metadata": {
        "colab": {
          "base_uri": "https://localhost:8080/"
        },
        "id": "wsSCQPn8r7Ny",
        "outputId": "ca5cefa0-f1a9-40fa-e72e-e8cc3463a303"
      },
      "execution_count": null,
      "outputs": [
        {
          "output_type": "stream",
          "name": "stdout",
          "text": [
            "Enter the message: This is a secret message!\n",
            "Plain Text :  This is a secret message!\n",
            "Cipher Text :  b'\\xf9A\\nN\\xd1;\\xb4\\x0b\\x93D\\xb8vi\\x93s\\xad6\\x97Z\\xca\"#Et\\x03:\\x9f\\x99\\x9d\\x84h5'\n",
            "Decrypted Text :  This is a secret message!\n"
          ]
        }
      ]
    }
  ]
}
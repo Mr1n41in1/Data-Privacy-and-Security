{
  "nbformat": 4,
  "nbformat_minor": 0,
  "metadata": {
    "colab": {
      "provenance": []
    },
    "kernelspec": {
      "name": "python3",
      "display_name": "Python 3"
    },
    "language_info": {
      "name": "python"
    }
  },
  "cells": [
    {
      "cell_type": "code",
      "execution_count": 1,
      "metadata": {
        "colab": {
          "base_uri": "https://localhost:8080/"
        },
        "id": "QnnolfZHsgVF",
        "outputId": "f8e39f36-3c4b-470c-87ef-a3636d0147ea"
      },
      "outputs": [
        {
          "output_type": "stream",
          "name": "stdout",
          "text": [
            "Collecting pycryptodome\n",
            "  Downloading pycryptodome-3.23.0-cp37-abi3-manylinux_2_17_x86_64.manylinux2014_x86_64.whl.metadata (3.4 kB)\n",
            "Downloading pycryptodome-3.23.0-cp37-abi3-manylinux_2_17_x86_64.manylinux2014_x86_64.whl (2.3 MB)\n",
            "\u001b[?25l   \u001b[90m━━━━━━━━━━━━━━━━━━━━━━━━━━━━━━━━━━━━━━━━\u001b[0m \u001b[32m0.0/2.3 MB\u001b[0m \u001b[31m?\u001b[0m eta \u001b[36m-:--:--\u001b[0m\r\u001b[2K   \u001b[91m━━━━━\u001b[0m\u001b[91m╸\u001b[0m\u001b[90m━━━━━━━━━━━━━━━━━━━━━━━━━━━━━━━━━━\u001b[0m \u001b[32m0.3/2.3 MB\u001b[0m \u001b[31m8.7 MB/s\u001b[0m eta \u001b[36m0:00:01\u001b[0m\r\u001b[2K   \u001b[91m━━━━━━━━━━━━━━━━━━━━━━━━━━━━\u001b[0m\u001b[91m╸\u001b[0m\u001b[90m━━━━━━━━━━━\u001b[0m \u001b[32m1.6/2.3 MB\u001b[0m \u001b[31m21.9 MB/s\u001b[0m eta \u001b[36m0:00:01\u001b[0m\r\u001b[2K   \u001b[90m━━━━━━━━━━━━━━━━━━━━━━━━━━━━━━━━━━━━━━━━\u001b[0m \u001b[32m2.3/2.3 MB\u001b[0m \u001b[31m21.0 MB/s\u001b[0m eta \u001b[36m0:00:00\u001b[0m\n",
            "\u001b[?25hInstalling collected packages: pycryptodome\n",
            "Successfully installed pycryptodome-3.23.0\n"
          ]
        }
      ],
      "source": [
        "!pip install pycryptodome"
      ]
    },
    {
      "cell_type": "code",
      "source": [
        "from Crypto.PublicKey import RSA\n",
        "from Crypto.Cipher import PKCS1_OAEP\n",
        "import base64\n",
        "\n",
        "# Function to generate RSA Key Pair\n",
        "def generate_keys():\n",
        "    key = RSA.generate(2048) # Generate a 2048-bit RSA key pair\n",
        "    private_key = key.export_key() # Export the private key\n",
        "    public_key = key.publickey().export_key() # Export the public key\n",
        "    # Save keys to files\n",
        "    with open(\"private.pem\", \"wb\") as priv_file:\n",
        "        priv_file.write(private_key)\n",
        "    with open(\"public.pem\", \"wb\") as pub_file:\n",
        "        pub_file.write(public_key)\n",
        "    print(\"RSA Key Pair Generated and Saved Successfully.\")\n",
        "    return private_key, public_key\n",
        "\n",
        "# Function to encrypt a message using RSA Public Key\n",
        "def encrypt_message(message, public_key_path):\n",
        "    with open(public_key_path, \"rb\") as pub_file:\n",
        "        public_key = RSA.import_key(pub_file.read()) # Load the public key\n",
        "    cipher = PKCS1_OAEP.new(public_key) # Create a cipher object\n",
        "    encrypted_message = cipher.encrypt(message.encode()) # Encrypt the message\n",
        "    return base64.b64encode(encrypted_message).decode() # Encode in base64\n",
        "\n",
        "# Function to decrypt a message using RSA Private Key\n",
        "def decrypt_message(encrypted_message, private_key_path):\n",
        "    with open(private_key_path, \"rb\") as priv_file:\n",
        "        private_key = RSA.import_key(priv_file.read()) # Load the private key\n",
        "    cipher = PKCS1_OAEP.new(private_key) # Create a cipher object\n",
        "    decrypted_message = cipher.decrypt(base64.b64decode(encrypted_message)) # Decrypt message\n",
        "    return decrypted_message.decode() # Convert bytes to string\n",
        "\n",
        "# Main Execution\n",
        "if __name__ == \"__main__\":\n",
        "    # Step 1: Generate RSA Key Pair\n",
        "    private_key, public_key = generate_keys()\n",
        "    # Step 2: Encrypt a message\n",
        "    message = \"Hello, RSA Secure Communication!\"\n",
        "    encrypted = encrypt_message(message, \"public.pem\")\n",
        "    print(f\"Encrypted Message: {encrypted}\")\n",
        "    # Step 3: Decrypt the message\n",
        "    decrypted = decrypt_message(encrypted, \"private.pem\")\n",
        "    print(f\"Decrypted Message: {decrypted}\")"
      ],
      "metadata": {
        "colab": {
          "base_uri": "https://localhost:8080/"
        },
        "id": "pkCPaalXtwtG",
        "outputId": "9d6c45ab-91d1-4e85-9595-2afb7d10840c"
      },
      "execution_count": 19,
      "outputs": [
        {
          "output_type": "stream",
          "name": "stdout",
          "text": [
            "RSA Key Pair Generated and Saved Successfully.\n",
            "Encrypted Message: FmHs+5Abl3ZmmKAQZT9tew0m1JNH9fz8P93HeljHZNIQM4ZsA3UABcOHJ1jZrSPb/OHz0tGGXYrQj8C1LusyQayvyDJY0XICOkbKRt1D3LuSyBIEd8m8/Nq4V3RcCXXBcVtR+Hg5E6AJxtdR/nIgO1R/Hg/vDt/kMQPCj890dnhJ186KFRq3S9X48+SJ65v8Hd0SIqJahMjswGi1iJ+NsqCh5vARmbePS9ErTvguzPswBtXU5qD723WIn2nOHECpJyJ0aw8hSc3sjOJvIOJ8xs4beMvZV0lLrbs9y03v5x7TLElwmlYJMtzhYpRayw0jdfDbKLeVsMYz/pOvtWDnEQ==\n",
            "Decrypted Message: Hello, RSA Secure Communication!\n"
          ]
        }
      ]
    }
  ]
}